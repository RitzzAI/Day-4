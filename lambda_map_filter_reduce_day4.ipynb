{
 "cells": [
  {
   "cell_type": "markdown",
   "metadata": {},
   "source": [
    "# Day 4: Advanced Python - Lambda Functions"
   ]
  },
  {
   "cell_type": "code",
   "execution_count": 7,
   "metadata": {},
   "outputs": [
    {
     "name": "stdout",
     "output_type": "stream",
     "text": [
      "25\n"
     ]
    }
   ],
   "source": [
    "# Lambda function example\n",
    "square = lambda x: x * x\n",
    "print(square(5))"
   ]
  },
  {
   "cell_type": "code",
   "execution_count": 4,
   "metadata": {},
   "outputs": [
    {
     "name": "stdout",
     "output_type": "stream",
     "text": [
      "6\n"
     ]
    }
   ],
   "source": [
    "# Lambda function example - \"Try by yourself\"\n",
    "minnion = lambda banana: banana + banana\n",
    "print(minnion(3))"
   ]
  },
  {
   "cell_type": "code",
   "execution_count": 5,
   "metadata": {},
   "outputs": [
    {
     "name": "stdout",
     "output_type": "stream",
     "text": [
      "20\n"
     ]
    }
   ],
   "source": [
    "# Lambda function example - \"Try by yourself\"\n",
    "Teacher = lambda student: student *2\n",
    "print(Teacher(10))"
   ]
  },
  {
   "cell_type": "code",
   "execution_count": 10,
   "metadata": {},
   "outputs": [
    {
     "name": "stdout",
     "output_type": "stream",
     "text": [
      "0\n"
     ]
    }
   ],
   "source": [
    "# Lambda function example - \"Try by yourself\"\n",
    "starlink = lambda musk: musk % musk\n",
    "print(starlink(40))"
   ]
  },
  {
   "cell_type": "code",
   "execution_count": 12,
   "metadata": {},
   "outputs": [
    {
     "name": "stdout",
     "output_type": "stream",
     "text": [
      "1.0\n"
     ]
    }
   ],
   "source": [
    "# Lambda function example - \"Try by yourself\"\n",
    "APJ_Abdul_Kalam = lambda Genius: Genius / Genius\n",
    "print(APJ_Abdul_Kalam(100000))"
   ]
  },
  {
   "cell_type": "code",
   "execution_count": 16,
   "metadata": {},
   "outputs": [
    {
     "name": "stdout",
     "output_type": "stream",
     "text": [
      "[1, 4, 9, 16]\n"
     ]
    }
   ],
   "source": [
    "# map example\n",
    "nums = [1, 2, 3, 4]\n",
    "squared = list(map(lambda x: x**2, nums))\n",
    "print(squared)"
   ]
  },
  {
   "cell_type": "code",
   "execution_count": 17,
   "metadata": {},
   "outputs": [
    {
     "name": "stdout",
     "output_type": "stream",
     "text": [
      "[8, 64, 216, 512]\n"
     ]
    }
   ],
   "source": [
    "# map example - \"Try by yourself\"\n",
    "Digits = [2,4,6,8] \n",
    "cube =list(map(lambda D: D**3, Digits))\n",
    "print(cube)"
   ]
  },
  {
   "cell_type": "code",
   "execution_count": 19,
   "metadata": {},
   "outputs": [
    {
     "name": "stdout",
     "output_type": "stream",
     "text": [
      "[-7.9, -7.8, -7.7, -7.6]\n"
     ]
    }
   ],
   "source": [
    "# map example - \"Try by yourself\"\n",
    "Tuples = [0.10,0.20,0.30,0.40]\n",
    "Point =list(map(lambda P: P-+8, Tuples))\n",
    "print(Point)"
   ]
  },
  {
   "cell_type": "code",
   "execution_count": 24,
   "metadata": {},
   "outputs": [
    {
     "name": "stdout",
     "output_type": "stream",
     "text": [
      "[65.1, 87.2, 43.3, 98.4]\n"
     ]
    }
   ],
   "source": [
    "# map example - \"Try by yourself\"\n",
    "Add = [55.10,77.20,33.30,88.40]\n",
    "Drop =list(map(lambda k: k+10, Add))\n",
    "print(Drop)\n"
   ]
  },
  {
   "cell_type": "code",
   "execution_count": 26,
   "metadata": {},
   "outputs": [
    {
     "name": "stdout",
     "output_type": "stream",
     "text": [
      "[True, True, True, True]\n"
     ]
    }
   ],
   "source": [
    "# map example - \"Try by yourself\"\n",
    "zzzz = [1111,2222,3333,4444]\n",
    "Lethargy =list(map(lambda n: n!=8, zzzz))\n",
    "print(Lethargy)\n"
   ]
  },
  {
   "cell_type": "code",
   "execution_count": 27,
   "metadata": {},
   "outputs": [
    {
     "name": "stdout",
     "output_type": "stream",
     "text": [
      "[2, 4]\n"
     ]
    }
   ],
   "source": [
    "# filter example\n",
    "even = list(filter(lambda x: x % 2 == 0, nums))\n",
    "print(even)"
   ]
  },
  {
   "cell_type": "code",
   "execution_count": 29,
   "metadata": {},
   "outputs": [
    {
     "name": "stdout",
     "output_type": "stream",
     "text": [
      "[1, 3]\n"
     ]
    }
   ],
   "source": [
    "# filter example - \"Try by yourself\"\n",
    "Odd = list(filter(lambda x: x % 2 != 0, nums))\n",
    "print(Odd)"
   ]
  },
  {
   "cell_type": "code",
   "execution_count": 41,
   "metadata": {},
   "outputs": [
    {
     "name": "stdout",
     "output_type": "stream",
     "text": [
      "[1, 2, 3, 4]\n"
     ]
    }
   ],
   "source": [
    "# filter example - \"Try by yourself\"\n",
    "differ = list(filter(lambda x: x ** 100 != 10, nums))\n",
    "print(differ)"
   ]
  },
  {
   "cell_type": "code",
   "execution_count": 49,
   "metadata": {},
   "outputs": [
    {
     "name": "stdout",
     "output_type": "stream",
     "text": [
      "[3, 8]\n"
     ]
    }
   ],
   "source": [
    "# filter example - \"Try by yourself\"\n",
    "nums = [-5, 3, 0, -1, 8]\n",
    "positive = list(filter(lambda x: x > 0, nums))\n",
    "print(positive)  "
   ]
  },
  {
   "cell_type": "code",
   "execution_count": 50,
   "metadata": {},
   "outputs": [
    {
     "name": "stdout",
     "output_type": "stream",
     "text": [
      "[-100, -50, -1]\n"
     ]
    }
   ],
   "source": [
    "# filter example - \"Try by yourself\"\n",
    "nums = [-100,-50,-1,0,50,100]\n",
    "positive = list(filter(lambda x: x < 0, nums))\n",
    "print(positive)\n"
   ]
  },
  {
   "cell_type": "code",
   "execution_count": 51,
   "metadata": {},
   "outputs": [
    {
     "name": "stdout",
     "output_type": "stream",
     "text": [
      "0\n"
     ]
    }
   ],
   "source": [
    "# reduce example\n",
    "from functools import reduce\n",
    "product = reduce(lambda x, y: x * y, nums)\n",
    "print(product)"
   ]
  },
  {
   "cell_type": "code",
   "execution_count": 52,
   "metadata": {},
   "outputs": [
    {
     "name": "stdout",
     "output_type": "stream",
     "text": [
      "10\n"
     ]
    }
   ],
   "source": [
    "# reduce example - \"Try by yourself\"\n",
    "from functools import reduce\n",
    "\n",
    "numbers = [3, 8, 2, 10, 5]\n",
    "\n",
    "max_value = reduce(lambda x, y: x if x > y else y, numbers)\n",
    "\n",
    "print(max_value) \n"
   ]
  },
  {
   "cell_type": "code",
   "execution_count": 54,
   "metadata": {},
   "outputs": [
    {
     "name": "stdout",
     "output_type": "stream",
     "text": [
      "2\n"
     ]
    }
   ],
   "source": [
    "# reduce example - \"Try by yourself\"\n",
    "from functools import reduce\n",
    "\n",
    "numbers = [3, 8, 2, 10, 5]\n",
    "\n",
    "max_value = reduce(lambda m, n: m if m < n else n, numbers)\n",
    "\n",
    "print(max_value) \n"
   ]
  },
  {
   "cell_type": "code",
   "execution_count": 58,
   "metadata": {},
   "outputs": [
    {
     "name": "stdout",
     "output_type": "stream",
     "text": [
      "33\n"
     ]
    }
   ],
   "source": [
    "# reduce example - \"Try by yourself\"\n",
    "from functools import reduce\n",
    "\n",
    "numbers = [33,54,15,80]\n",
    "\n",
    "max_value = reduce(lambda a, b: a if a > b else a, numbers)\n",
    "\n",
    "print(max_value)  \n"
   ]
  },
  {
   "cell_type": "code",
   "execution_count": 60,
   "metadata": {},
   "outputs": [
    {
     "name": "stdout",
     "output_type": "stream",
     "text": [
      "69\n"
     ]
    }
   ],
   "source": [
    "# reduce example - \"Try by yourself\"\n",
    "from functools import reduce\n",
    "\n",
    "numbers = [69, 48, 62, 75, 56]\n",
    "\n",
    "max_value = reduce(lambda r, s: r if r >= s else r, numbers)\n",
    "\n",
    "print(max_value) \n"
   ]
  }
 ],
 "metadata": {
  "kernelspec": {
   "display_name": "Python 3 (ipykernel)",
   "language": "python",
   "name": "python3"
  },
  "language_info": {
   "codemirror_mode": {
    "name": "ipython",
    "version": 3
   },
   "file_extension": ".py",
   "mimetype": "text/x-python",
   "name": "python",
   "nbconvert_exporter": "python",
   "pygments_lexer": "ipython3",
   "version": "3.13.3"
  }
 },
 "nbformat": 4,
 "nbformat_minor": 4
}
